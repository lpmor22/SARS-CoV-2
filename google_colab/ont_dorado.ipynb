{
  "nbformat": 4,
  "nbformat_minor": 0,
  "metadata": {
    "colab": {
      "provenance": [],
      "gpuType": "T4"
    },
    "kernelspec": {
      "name": "python3",
      "display_name": "Python 3"
    },
    "language_info": {
      "name": "python"
    },
    "accelerator": "GPU"
  },
  "cells": [
    {
      "cell_type": "code",
      "execution_count": 1,
      "metadata": {
        "id": "gxcweSl4fmRz",
        "outputId": "7d11de4f-7b3d-41b2-a445-999b56e34a33",
        "colab": {
          "base_uri": "https://localhost:8080/",
          "height": 35
        }
      },
      "outputs": [
        {
          "output_type": "execute_result",
          "data": {
            "text/plain": [
              "'Tesla T4'"
            ],
            "application/vnd.google.colaboratory.intrinsic+json": {
              "type": "string"
            }
          },
          "metadata": {},
          "execution_count": 1
        }
      ],
      "source": [
        "# Initiate GPU runtime\n",
        "\n",
        "import tensorflow as tf\n",
        "tf.test.gpu_device_name()\n",
        "\n",
        "import torch\n",
        "torch.cuda.get_device_name(0)"
      ]
    },
    {
      "cell_type": "code",
      "source": [
        "# Install Dorado (Oxford Nanopore Technologies)\n",
        "\n",
        "%%shell\n",
        "\n",
        "DORADO_VERSION=0.9.0 # Updated 21 May 2025\n",
        "\n",
        "wget https://cdn.oxfordnanoportal.com/software/analysis/dorado-\"$DORADO_VERSION\"-linux-x64.tar.gz -O dorado.tar.gz\n",
        "tar -vzxf dorado.tar.gz; rm -rf dorado.tar.gz; mv dorado-\"$DORADO_VERSION\"-linux-x64 ont-dorado\n",
        "mkdir -p ont-dorado/models\n",
        "./ont-dorado/bin/dorado download --directory ont-dorado/models\n",
        "./ont-dorado/bin/dorado --version"
      ],
      "metadata": {
        "id": "dSavIZSzhTlP",
        "outputId": "975fdfd3-90ce-43df-b900-f0acb11d4465",
        "colab": {
          "base_uri": "https://localhost:8080/"
        }
      },
      "execution_count": 2,
      "outputs": [
        {
          "output_type": "stream",
          "name": "stdout",
          "text": [
            "--2025-05-21 15:06:22--  https://cdn.oxfordnanoportal.com/software/analysis/dorado-0.9.0-linux-x64.tar.gz\n",
            "Resolving cdn.oxfordnanoportal.com (cdn.oxfordnanoportal.com)... 108.138.94.114, 108.138.94.29, 108.138.94.96, ...\n",
            "Connecting to cdn.oxfordnanoportal.com (cdn.oxfordnanoportal.com)|108.138.94.114|:443... connected.\n",
            "HTTP request sent, awaiting response... 200 OK\n",
            "Length: 2593394059 (2.4G) [application/x-tar]\n",
            "Saving to: ‘dorado.tar.gz’\n",
            "\n",
            "dorado.tar.gz       100%[===================>]   2.42G  85.6MB/s    in 14s     \n",
            "\n",
            "2025-05-21 15:06:37 (173 MB/s) - ‘dorado.tar.gz’ saved [2593394059/2593394059]\n",
            "\n",
            "dorado-0.9.0-linux-x64/bin/\n",
            "dorado-0.9.0-linux-x64/bin/dorado\n",
            "dorado-0.9.0-linux-x64/lib/\n",
            "dorado-0.9.0-linux-x64/lib/libnvrtc.so.11.2\n",
            "dorado-0.9.0-linux-x64/lib/libdorado_torch_lib.so\n",
            "dorado-0.9.0-linux-x64/lib/libnvToolsExt.so.1\n",
            "dorado-0.9.0-linux-x64/lib/libsz.so.2.0.1\n",
            "dorado-0.9.0-linux-x64/lib/libnvrtc.so.11.8.89\n",
            "dorado-0.9.0-linux-x64/lib/libhdf5.so.8\n",
            "dorado-0.9.0-linux-x64/lib/libnvToolsExt.so\n",
            "dorado-0.9.0-linux-x64/lib/libzstd.so.1.5.5\n",
            "dorado-0.9.0-linux-x64/lib/libsz.so.2\n",
            "dorado-0.9.0-linux-x64/lib/libnvrtc-builtins.so\n",
            "dorado-0.9.0-linux-x64/lib/libcudart.so.11.8.89\n",
            "dorado-0.9.0-linux-x64/lib/libcublasLt.so.11\n",
            "dorado-0.9.0-linux-x64/lib/libhdf5.so.8.0.1\n",
            "dorado-0.9.0-linux-x64/lib/libaec.so.0\n",
            "dorado-0.9.0-linux-x64/lib/libcublas.so.11\n",
            "dorado-0.9.0-linux-x64/lib/libzstd.so.1\n",
            "dorado-0.9.0-linux-x64/lib/libcaffe2_nvrtc.so\n",
            "dorado-0.9.0-linux-x64/lib/libcudart.so.11.0\n",
            "dorado-0.9.0-linux-x64/lib/libcublasLt.so\n",
            "dorado-0.9.0-linux-x64/lib/libsz.so\n",
            "dorado-0.9.0-linux-x64/lib/libnvrtc-builtins.so.11.8\n",
            "dorado-0.9.0-linux-x64/lib/libaec.so.0.0.10\n",
            "dorado-0.9.0-linux-x64/lib/libnvrtc.so\n",
            "dorado-0.9.0-linux-x64/lib/libaec.so\n",
            "dorado-0.9.0-linux-x64/lib/libcublasLt.so.11.11.3.6\n",
            "dorado-0.9.0-linux-x64/lib/libcublas.so\n",
            "dorado-0.9.0-linux-x64/lib/libiomp5.so\n",
            "dorado-0.9.0-linux-x64/lib/libhdf5.so\n",
            "dorado-0.9.0-linux-x64/lib/libcudart.so\n",
            "dorado-0.9.0-linux-x64/lib/libnvToolsExt.so.1.0.0\n",
            "dorado-0.9.0-linux-x64/lib/libzstd.so\n",
            "dorado-0.9.0-linux-x64/lib/libnvrtc-builtins.so.11.8.89\n",
            "dorado-0.9.0-linux-x64/lib/libcublas.so.11.11.3.6\n",
            "[2025-05-21 15:07:43.226] [\u001b[32minfo\u001b[m] Running: \"download\" \"--directory\" \"ont-dorado/models\"\n",
            "[2025-05-21 15:07:43.232] [\u001b[32minfo\u001b[m]  - downloading dna_r9.4.1_e8_fast@v3.4 with httplib\n",
            "[2025-05-21 15:07:44.608] [\u001b[32minfo\u001b[m]  - downloading dna_r9.4.1_e8_hac@v3.3 with httplib\n",
            "[2025-05-21 15:07:46.762] [\u001b[32minfo\u001b[m]  - downloading dna_r9.4.1_e8_sup@v3.3 with httplib\n",
            "[2025-05-21 15:07:52.260] [\u001b[32minfo\u001b[m]  - downloading dna_r9.4.1_e8_sup@v3.6 with httplib\n",
            "[2025-05-21 15:07:57.225] [\u001b[32minfo\u001b[m]  - downloading dna_r10.4.1_e8.2_260bps_fast@v3.5.2 with httplib\n",
            "[2025-05-21 15:07:58.405] [\u001b[32minfo\u001b[m]  - downloading dna_r10.4.1_e8.2_260bps_hac@v3.5.2 with httplib\n",
            "[2025-05-21 15:08:00.446] [\u001b[32minfo\u001b[m]  - downloading dna_r10.4.1_e8.2_260bps_sup@v3.5.2 with httplib\n",
            "[2025-05-21 15:08:07.319] [\u001b[32minfo\u001b[m]  - downloading dna_r10.4.1_e8.2_400bps_fast@v3.5.2 with httplib\n",
            "[2025-05-21 15:08:08.496] [\u001b[32minfo\u001b[m]  - downloading dna_r10.4.1_e8.2_400bps_hac@v3.5.2 with httplib\n",
            "[2025-05-21 15:08:10.705] [\u001b[32minfo\u001b[m]  - downloading dna_r10.4.1_e8.2_400bps_sup@v3.5.2 with httplib\n",
            "[2025-05-21 15:08:18.554] [\u001b[32minfo\u001b[m]  - downloading dna_r10.4.1_e8.2_260bps_fast@v4.0.0 with httplib\n",
            "[2025-05-21 15:08:19.770] [\u001b[32minfo\u001b[m]  - downloading dna_r10.4.1_e8.2_260bps_hac@v4.0.0 with httplib\n",
            "[2025-05-21 15:08:21.988] [\u001b[32minfo\u001b[m]  - downloading dna_r10.4.1_e8.2_260bps_sup@v4.0.0 with httplib\n",
            "[2025-05-21 15:08:28.799] [\u001b[32minfo\u001b[m]  - downloading dna_r10.4.1_e8.2_400bps_fast@v4.0.0 with httplib\n",
            "[2025-05-21 15:08:29.973] [\u001b[32minfo\u001b[m]  - downloading dna_r10.4.1_e8.2_400bps_hac@v4.0.0 with httplib\n",
            "[2025-05-21 15:08:32.009] [\u001b[32minfo\u001b[m]  - downloading dna_r10.4.1_e8.2_400bps_sup@v4.0.0 with httplib\n",
            "[2025-05-21 15:08:38.784] [\u001b[32minfo\u001b[m]  - downloading dna_r10.4.1_e8.2_260bps_fast@v4.1.0 with httplib\n",
            "[2025-05-21 15:08:38.900] [\u001b[32minfo\u001b[m]  - downloading dna_r10.4.1_e8.2_260bps_hac@v4.1.0 with httplib\n",
            "[2025-05-21 15:08:39.417] [\u001b[32minfo\u001b[m]  - downloading dna_r10.4.1_e8.2_260bps_sup@v4.1.0 with httplib\n",
            "[2025-05-21 15:08:46.234] [\u001b[32minfo\u001b[m]  - downloading dna_r10.4.1_e8.2_400bps_fast@v4.1.0 with httplib\n",
            "[2025-05-21 15:08:46.380] [\u001b[32minfo\u001b[m]  - downloading dna_r10.4.1_e8.2_400bps_hac@v4.1.0 with httplib\n",
            "[2025-05-21 15:08:46.890] [\u001b[32minfo\u001b[m]  - downloading dna_r10.4.1_e8.2_400bps_sup@v4.1.0 with httplib\n",
            "[2025-05-21 15:08:50.215] [\u001b[32minfo\u001b[m]  - downloading dna_r10.4.1_e8.2_400bps_fast@v4.2.0 with httplib\n",
            "[2025-05-21 15:08:50.382] [\u001b[32minfo\u001b[m]  - downloading dna_r10.4.1_e8.2_400bps_hac@v4.2.0 with httplib\n",
            "[2025-05-21 15:08:51.033] [\u001b[32minfo\u001b[m]  - downloading dna_r10.4.1_e8.2_400bps_sup@v4.2.0 with httplib\n",
            "[2025-05-21 15:08:54.271] [\u001b[32minfo\u001b[m]  - downloading dna_r10.4.1_e8.2_400bps_fast@v4.3.0 with httplib\n",
            "[2025-05-21 15:08:54.408] [\u001b[32minfo\u001b[m]  - downloading dna_r10.4.1_e8.2_400bps_hac@v4.3.0 with httplib\n",
            "[2025-05-21 15:08:54.909] [\u001b[32minfo\u001b[m]  - downloading dna_r10.4.1_e8.2_400bps_sup@v4.3.0 with httplib\n",
            "[2025-05-21 15:08:57.763] [\u001b[32minfo\u001b[m]  - downloading dna_r10.4.1_e8.2_400bps_fast@v5.0.0 with httplib\n",
            "[2025-05-21 15:08:58.103] [\u001b[32minfo\u001b[m]  - downloading dna_r10.4.1_e8.2_400bps_hac@v5.0.0 with httplib\n",
            "[2025-05-21 15:08:58.545] [\u001b[32minfo\u001b[m]  - downloading dna_r10.4.1_e8.2_400bps_sup@v5.0.0 with httplib\n",
            "[2025-05-21 15:09:07.903] [\u001b[32minfo\u001b[m]  - downloading dna_r10.4.1_e8.2_apk_sup@v5.0.0 with httplib\n",
            "[2025-05-21 15:09:25.774] [\u001b[32minfo\u001b[m]  - downloading rna002_70bps_fast@v3 with httplib\n",
            "[2025-05-21 15:09:26.979] [\u001b[32minfo\u001b[m]  - downloading rna002_70bps_hac@v3 with httplib\n",
            "[2025-05-21 15:09:29.204] [\u001b[32minfo\u001b[m]  - downloading rna004_130bps_fast@v3.0.1 with httplib\n",
            "[2025-05-21 15:09:30.390] [\u001b[32minfo\u001b[m]  - downloading rna004_130bps_hac@v3.0.1 with httplib\n",
            "[2025-05-21 15:09:32.519] [\u001b[32minfo\u001b[m]  - downloading rna004_130bps_sup@v3.0.1 with httplib\n",
            "[2025-05-21 15:09:37.499] [\u001b[32minfo\u001b[m]  - downloading rna004_130bps_fast@v5.0.0 with httplib\n",
            "[2025-05-21 15:09:37.627] [\u001b[32minfo\u001b[m]  - downloading rna004_130bps_hac@v5.0.0 with httplib\n",
            "[2025-05-21 15:09:38.268] [\u001b[32minfo\u001b[m]  - downloading rna004_130bps_sup@v5.0.0 with httplib\n",
            "[2025-05-21 15:09:46.283] [\u001b[32minfo\u001b[m]  - downloading rna004_130bps_fast@v5.1.0 with httplib\n",
            "[2025-05-21 15:09:46.393] [\u001b[32minfo\u001b[m]  - downloading rna004_130bps_hac@v5.1.0 with httplib\n",
            "[2025-05-21 15:09:46.840] [\u001b[32minfo\u001b[m]  - downloading rna004_130bps_sup@v5.1.0 with httplib\n",
            "[2025-05-21 15:09:57.666] [\u001b[32minfo\u001b[m]  - downloading dna_r9.4.1_e8_fast@v3.4_5mCG@v0.1 with httplib\n",
            "[2025-05-21 15:09:58.793] [\u001b[32minfo\u001b[m]  - downloading dna_r9.4.1_e8_hac@v3.3_5mCG@v0.1 with httplib\n",
            "[2025-05-21 15:09:59.840] [\u001b[32minfo\u001b[m]  - downloading dna_r9.4.1_e8_sup@v3.3_5mCG@v0.1 with httplib\n",
            "[2025-05-21 15:10:00.877] [\u001b[32minfo\u001b[m]  - downloading dna_r9.4.1_e8_fast@v3.4_5mCG_5hmCG@v0 with httplib\n",
            "[2025-05-21 15:10:02.169] [\u001b[32minfo\u001b[m]  - downloading dna_r9.4.1_e8_hac@v3.3_5mCG_5hmCG@v0 with httplib\n",
            "[2025-05-21 15:10:03.457] [\u001b[32minfo\u001b[m]  - downloading dna_r9.4.1_e8_sup@v3.3_5mCG_5hmCG@v0 with httplib\n",
            "[2025-05-21 15:10:04.760] [\u001b[32minfo\u001b[m]  - downloading dna_r10.4.1_e8.2_260bps_fast@v3.5.2_5mCG@v2 with httplib\n",
            "[2025-05-21 15:10:05.928] [\u001b[32minfo\u001b[m]  - downloading dna_r10.4.1_e8.2_260bps_hac@v3.5.2_5mCG@v2 with httplib\n",
            "[2025-05-21 15:10:07.220] [\u001b[32minfo\u001b[m]  - downloading dna_r10.4.1_e8.2_260bps_sup@v3.5.2_5mCG@v2 with httplib\n",
            "[2025-05-21 15:10:08.548] [\u001b[32minfo\u001b[m]  - downloading dna_r10.4.1_e8.2_400bps_fast@v3.5.2_5mCG@v2 with httplib\n",
            "[2025-05-21 15:10:09.739] [\u001b[32minfo\u001b[m]  - downloading dna_r10.4.1_e8.2_400bps_hac@v3.5.2_5mCG@v2 with httplib\n",
            "[2025-05-21 15:10:11.049] [\u001b[32minfo\u001b[m]  - downloading dna_r10.4.1_e8.2_400bps_sup@v3.5.2_5mCG@v2 with httplib\n",
            "[2025-05-21 15:10:12.325] [\u001b[32minfo\u001b[m]  - downloading dna_r10.4.1_e8.2_260bps_fast@v4.0.0_5mCG_5hmCG@v2 with httplib\n",
            "[2025-05-21 15:10:15.211] [\u001b[32minfo\u001b[m]  - downloading dna_r10.4.1_e8.2_260bps_hac@v4.0.0_5mCG_5hmCG@v2 with httplib\n",
            "[2025-05-21 15:10:17.537] [\u001b[32minfo\u001b[m]  - downloading dna_r10.4.1_e8.2_260bps_sup@v4.0.0_5mCG_5hmCG@v2 with httplib\n",
            "[2025-05-21 15:10:19.907] [\u001b[32minfo\u001b[m]  - downloading dna_r10.4.1_e8.2_400bps_fast@v4.0.0_5mCG_5hmCG@v2 with httplib\n",
            "[2025-05-21 15:10:22.166] [\u001b[32minfo\u001b[m]  - downloading dna_r10.4.1_e8.2_400bps_hac@v4.0.0_5mCG_5hmCG@v2 with httplib\n",
            "[2025-05-21 15:10:24.530] [\u001b[32minfo\u001b[m]  - downloading dna_r10.4.1_e8.2_400bps_sup@v4.0.0_5mCG_5hmCG@v2 with httplib\n",
            "[2025-05-21 15:10:26.849] [\u001b[32minfo\u001b[m]  - downloading dna_r10.4.1_e8.2_260bps_fast@v4.1.0_5mCG_5hmCG@v2 with httplib\n",
            "[2025-05-21 15:10:28.965] [\u001b[32minfo\u001b[m]  - downloading dna_r10.4.1_e8.2_260bps_hac@v4.1.0_5mCG_5hmCG@v2 with httplib\n",
            "[2025-05-21 15:10:31.157] [\u001b[32minfo\u001b[m]  - downloading dna_r10.4.1_e8.2_260bps_sup@v4.1.0_5mCG_5hmCG@v2 with httplib\n",
            "[2025-05-21 15:10:33.251] [\u001b[32minfo\u001b[m]  - downloading dna_r10.4.1_e8.2_400bps_fast@v4.1.0_5mCG_5hmCG@v2 with httplib\n",
            "[2025-05-21 15:10:35.403] [\u001b[32minfo\u001b[m]  - downloading dna_r10.4.1_e8.2_400bps_hac@v4.1.0_5mCG_5hmCG@v2 with httplib\n",
            "[2025-05-21 15:10:37.591] [\u001b[32minfo\u001b[m]  - downloading dna_r10.4.1_e8.2_400bps_sup@v4.1.0_5mCG_5hmCG@v2 with httplib\n",
            "[2025-05-21 15:10:39.787] [\u001b[32minfo\u001b[m]  - downloading dna_r10.4.1_e8.2_400bps_fast@v4.2.0_5mCG_5hmCG@v2 with httplib\n",
            "[2025-05-21 15:10:41.116] [\u001b[32minfo\u001b[m]  - downloading dna_r10.4.1_e8.2_400bps_hac@v4.2.0_5mCG_5hmCG@v2 with httplib\n",
            "[2025-05-21 15:10:42.783] [\u001b[32minfo\u001b[m]  - downloading dna_r10.4.1_e8.2_400bps_sup@v4.2.0_5mCG_5hmCG@v2 with httplib\n",
            "[2025-05-21 15:10:44.463] [\u001b[32minfo\u001b[m]  - downloading dna_r10.4.1_e8.2_400bps_sup@v4.2.0_5mCG_5hmCG@v3.1 with httplib\n",
            "[2025-05-21 15:10:46.829] [\u001b[32minfo\u001b[m]  - downloading dna_r10.4.1_e8.2_400bps_sup@v4.2.0_5mC@v2 with httplib\n",
            "[2025-05-21 15:10:48.320] [\u001b[32minfo\u001b[m]  - downloading dna_r10.4.1_e8.2_400bps_sup@v4.2.0_6mA@v2 with httplib\n",
            "[2025-05-21 15:10:50.633] [\u001b[32minfo\u001b[m]  - downloading dna_r10.4.1_e8.2_400bps_sup@v4.2.0_6mA@v3 with httplib\n",
            "[2025-05-21 15:10:52.723] [\u001b[32minfo\u001b[m]  - downloading dna_r10.4.1_e8.2_400bps_sup@v4.2.0_5mC_5hmC@v1 with httplib\n",
            "[2025-05-21 15:10:54.893] [\u001b[32minfo\u001b[m]  - downloading dna_r10.4.1_e8.2_400bps_hac@v4.3.0_5mC_5hmC@v1 with httplib\n",
            "[2025-05-21 15:10:57.179] [\u001b[32minfo\u001b[m]  - downloading dna_r10.4.1_e8.2_400bps_sup@v4.3.0_5mC_5hmC@v1 with httplib\n",
            "[2025-05-21 15:10:59.345] [\u001b[32minfo\u001b[m]  - downloading dna_r10.4.1_e8.2_400bps_hac@v4.3.0_6mA@v1 with httplib\n",
            "[2025-05-21 15:11:01.654] [\u001b[32minfo\u001b[m]  - downloading dna_r10.4.1_e8.2_400bps_sup@v4.3.0_6mA@v1 with httplib\n",
            "[2025-05-21 15:11:03.867] [\u001b[32minfo\u001b[m]  - downloading dna_r10.4.1_e8.2_400bps_hac@v4.3.0_6mA@v2 with httplib\n",
            "[2025-05-21 15:11:06.065] [\u001b[32minfo\u001b[m]  - downloading dna_r10.4.1_e8.2_400bps_sup@v4.3.0_6mA@v2 with httplib\n",
            "[2025-05-21 15:11:08.337] [\u001b[32minfo\u001b[m]  - downloading dna_r10.4.1_e8.2_400bps_hac@v4.3.0_5mCG_5hmCG@v1 with httplib\n",
            "[2025-05-21 15:11:10.566] [\u001b[32minfo\u001b[m]  - downloading dna_r10.4.1_e8.2_400bps_sup@v4.3.0_5mCG_5hmCG@v1 with httplib\n",
            "[2025-05-21 15:11:12.723] [\u001b[32minfo\u001b[m]  - downloading dna_r10.4.1_e8.2_400bps_hac@v5.0.0_4mC_5mC@v1 with httplib\n",
            "[2025-05-21 15:11:14.844] [\u001b[32minfo\u001b[m]  - downloading dna_r10.4.1_e8.2_400bps_sup@v5.0.0_4mC_5mC@v1 with httplib\n",
            "[2025-05-21 15:11:16.974] [\u001b[32minfo\u001b[m]  - downloading dna_r10.4.1_e8.2_400bps_hac@v5.0.0_4mC_5mC@v2 with httplib\n",
            "[2025-05-21 15:11:19.091] [\u001b[32minfo\u001b[m]  - downloading dna_r10.4.1_e8.2_400bps_hac@v5.0.0_4mC_5mC@v3 with httplib\n",
            "[2025-05-21 15:11:21.239] [\u001b[32minfo\u001b[m]  - downloading dna_r10.4.1_e8.2_400bps_sup@v5.0.0_4mC_5mC@v2 with httplib\n",
            "[2025-05-21 15:11:23.503] [\u001b[32minfo\u001b[m]  - downloading dna_r10.4.1_e8.2_400bps_sup@v5.0.0_4mC_5mC@v3 with httplib\n",
            "[2025-05-21 15:11:24.001] [\u001b[32minfo\u001b[m]  - downloading dna_r10.4.1_e8.2_400bps_hac@v5.0.0_5mC_5hmC@v1 with httplib\n",
            "[2025-05-21 15:11:24.580] [\u001b[32minfo\u001b[m]  - downloading dna_r10.4.1_e8.2_400bps_sup@v5.0.0_5mC_5hmC@v1 with httplib\n",
            "[2025-05-21 15:11:25.916] [\u001b[32minfo\u001b[m]  - downloading dna_r10.4.1_e8.2_400bps_hac@v5.0.0_5mC_5hmC@v2 with httplib\n",
            "[2025-05-21 15:11:26.401] [\u001b[32minfo\u001b[m]  - downloading dna_r10.4.1_e8.2_400bps_hac@v5.0.0_5mC_5hmC@v3 with httplib\n",
            "[2025-05-21 15:11:26.932] [\u001b[32minfo\u001b[m]  - downloading dna_r10.4.1_e8.2_400bps_sup@v5.0.0_5mC_5hmC@v2.0.1 with httplib\n",
            "[2025-05-21 15:11:27.515] [\u001b[32minfo\u001b[m]  - downloading dna_r10.4.1_e8.2_400bps_sup@v5.0.0_5mC_5hmC@v3 with httplib\n",
            "[2025-05-21 15:11:28.090] [\u001b[32minfo\u001b[m]  - downloading dna_r10.4.1_e8.2_400bps_hac@v5.0.0_5mCG_5hmCG@v1 with httplib\n",
            "[2025-05-21 15:11:28.606] [\u001b[32minfo\u001b[m]  - downloading dna_r10.4.1_e8.2_400bps_sup@v5.0.0_5mCG_5hmCG@v1 with httplib\n",
            "[2025-05-21 15:11:29.172] [\u001b[32minfo\u001b[m]  - downloading dna_r10.4.1_e8.2_400bps_hac@v5.0.0_5mCG_5hmCG@v2 with httplib\n",
            "[2025-05-21 15:11:29.855] [\u001b[32minfo\u001b[m]  - downloading dna_r10.4.1_e8.2_400bps_hac@v5.0.0_5mCG_5hmCG@v3 with httplib\n",
            "[2025-05-21 15:11:30.447] [\u001b[32minfo\u001b[m]  - downloading dna_r10.4.1_e8.2_400bps_sup@v5.0.0_5mCG_5hmCG@v2.0.1 with httplib\n",
            "[2025-05-21 15:11:31.019] [\u001b[32minfo\u001b[m]  - downloading dna_r10.4.1_e8.2_400bps_sup@v5.0.0_5mCG_5hmCG@v3 with httplib\n",
            "[2025-05-21 15:11:31.755] [\u001b[32minfo\u001b[m]  - downloading dna_r10.4.1_e8.2_400bps_hac@v5.0.0_6mA@v1 with httplib\n",
            "[2025-05-21 15:11:32.355] [\u001b[32minfo\u001b[m]  - downloading dna_r10.4.1_e8.2_400bps_sup@v5.0.0_6mA@v1 with httplib\n",
            "[2025-05-21 15:11:34.634] [\u001b[32minfo\u001b[m]  - downloading dna_r10.4.1_e8.2_400bps_hac@v5.0.0_6mA@v2 with httplib\n",
            "[2025-05-21 15:11:36.777] [\u001b[32minfo\u001b[m]  - downloading dna_r10.4.1_e8.2_400bps_hac@v5.0.0_6mA@v3 with httplib\n",
            "[2025-05-21 15:11:38.947] [\u001b[32minfo\u001b[m]  - downloading dna_r10.4.1_e8.2_400bps_sup@v5.0.0_6mA@v2 with httplib\n",
            "[2025-05-21 15:11:41.151] [\u001b[32minfo\u001b[m]  - downloading dna_r10.4.1_e8.2_400bps_sup@v5.0.0_6mA@v3 with httplib\n",
            "[2025-05-21 15:11:43.290] [\u001b[32minfo\u001b[m]  - downloading rna004_130bps_sup@v3.0.1_m6A_DRACH@v1 with httplib\n",
            "[2025-05-21 15:11:44.896] [\u001b[32minfo\u001b[m]  - downloading rna004_130bps_hac@v5.0.0_m6A@v1 with httplib\n",
            "[2025-05-21 15:11:46.401] [\u001b[32minfo\u001b[m]  - downloading rna004_130bps_sup@v5.0.0_m6A@v1 with httplib\n",
            "[2025-05-21 15:11:48.885] [\u001b[32minfo\u001b[m]  - downloading rna004_130bps_hac@v5.0.0_m6A_DRACH@v1 with httplib\n",
            "[2025-05-21 15:11:50.214] [\u001b[32minfo\u001b[m]  - downloading rna004_130bps_sup@v5.0.0_m6A_DRACH@v1 with httplib\n",
            "[2025-05-21 15:11:51.873] [\u001b[32minfo\u001b[m]  - downloading rna004_130bps_hac@v5.0.0_pseU@v1 with httplib\n",
            "[2025-05-21 15:11:53.417] [\u001b[32minfo\u001b[m]  - downloading rna004_130bps_sup@v5.0.0_pseU@v1 with httplib\n",
            "[2025-05-21 15:11:54.939] [\u001b[32minfo\u001b[m]  - downloading rna004_130bps_hac@v5.1.0_m5C@v1 with httplib\n",
            "[2025-05-21 15:11:56.440] [\u001b[32minfo\u001b[m]  - downloading rna004_130bps_sup@v5.1.0_m5C@v1 with httplib\n",
            "[2025-05-21 15:11:58.551] [\u001b[32minfo\u001b[m]  - downloading rna004_130bps_hac@v5.1.0_inosine_m6A@v1 with httplib\n",
            "[2025-05-21 15:12:00.053] [\u001b[32minfo\u001b[m]  - downloading rna004_130bps_sup@v5.1.0_inosine_m6A@v1 with httplib\n",
            "[2025-05-21 15:12:00.584] [\u001b[32minfo\u001b[m]  - downloading rna004_130bps_hac@v5.1.0_m6A_DRACH@v1 with httplib\n",
            "[2025-05-21 15:12:00.702] [\u001b[32minfo\u001b[m]  - downloading rna004_130bps_sup@v5.1.0_m6A_DRACH@v1 with httplib\n",
            "[2025-05-21 15:12:01.028] [\u001b[32minfo\u001b[m]  - downloading rna004_130bps_hac@v5.1.0_pseU@v1 with httplib\n",
            "[2025-05-21 15:12:01.222] [\u001b[32minfo\u001b[m]  - downloading rna004_130bps_sup@v5.1.0_pseU@v1 with httplib\n",
            "[2025-05-21 15:12:01.431] [\u001b[32minfo\u001b[m]  - downloading dna_r10.4.1_e8.2_4khz_stereo@v1.1 with httplib\n",
            "[2025-05-21 15:12:01.552] [\u001b[32minfo\u001b[m]  - downloading dna_r10.4.1_e8.2_4khz_stereo@v1.1 with httplib\n",
            "[2025-05-21 15:12:01.676] [\u001b[32minfo\u001b[m]  - found existing model: 'dna_r10.4.1_e8.2_4khz_stereo@v1.1'\n",
            "[2025-05-21 15:12:01.676] [\u001b[32minfo\u001b[m]  - downloading dna_r10.4.1_e8.2_5khz_stereo@v1.1 with httplib\n",
            "[2025-05-21 15:12:02.176] [\u001b[32minfo\u001b[m]  - downloading dna_r10.4.1_e8.2_5khz_stereo@v1.2 with httplib\n",
            "[2025-05-21 15:12:02.774] [\u001b[32minfo\u001b[m]  - downloading dna_r10.4.1_e8.2_5khz_stereo@v1.3 with httplib\n",
            "[2025-05-21 15:12:05.561] [\u001b[32minfo\u001b[m] Running: \"--version\"\n",
            "0.9.0+9dc15a8\n"
          ]
        },
        {
          "output_type": "execute_result",
          "data": {
            "text/plain": []
          },
          "metadata": {},
          "execution_count": 2
        }
      ]
    },
    {
      "cell_type": "code",
      "source": [
        "# Install MegaTools\n",
        "\n",
        "!sudo apt-get install -y megatools"
      ],
      "metadata": {
        "id": "rXUoG-oNVbqb",
        "outputId": "f3d1e6ee-51a3-4201-f1c2-6f2819a427fb",
        "colab": {
          "base_uri": "https://localhost:8080/"
        }
      },
      "execution_count": 3,
      "outputs": [
        {
          "output_type": "stream",
          "name": "stdout",
          "text": [
            "Reading package lists... Done\n",
            "Building dependency tree... Done\n",
            "Reading state information... Done\n",
            "The following NEW packages will be installed:\n",
            "  megatools\n",
            "0 upgraded, 1 newly installed, 0 to remove and 34 not upgraded.\n",
            "Need to get 207 kB of archives.\n",
            "After this operation, 898 kB of additional disk space will be used.\n",
            "Get:1 http://archive.ubuntu.com/ubuntu jammy/universe amd64 megatools amd64 1.10.3-1build1 [207 kB]\n",
            "Fetched 207 kB in 0s (486 kB/s)\n",
            "debconf: unable to initialize frontend: Dialog\n",
            "debconf: (No usable dialog-like program is installed, so the dialog based frontend cannot be used. at /usr/share/perl5/Debconf/FrontEnd/Dialog.pm line 78, <> line 1.)\n",
            "debconf: falling back to frontend: Readline\n",
            "debconf: unable to initialize frontend: Readline\n",
            "debconf: (This frontend requires a controlling tty.)\n",
            "debconf: falling back to frontend: Teletype\n",
            "dpkg-preconfigure: unable to re-open stdin: \n",
            "Selecting previously unselected package megatools.\n",
            "(Reading database ... 126102 files and directories currently installed.)\n",
            "Preparing to unpack .../megatools_1.10.3-1build1_amd64.deb ...\n",
            "Unpacking megatools (1.10.3-1build1) ...\n",
            "Setting up megatools (1.10.3-1build1) ...\n",
            "Processing triggers for man-db (2.10.2-1) ...\n"
          ]
        }
      ]
    },
    {
      "cell_type": "code",
      "source": [
        "# Download FAST5/POD5 files\n",
        "\n",
        "%%shell\n",
        "\n",
        "FILES=\"https://mega.nz/file/NU113SpT#5JwWToDmQrt4yV8wWgpz8_oMYjB4CI6JV9Agek8d8K8\"\n",
        "\n",
        "megadl \"$FILES\" --path /content/"
      ],
      "metadata": {
        "id": "udzLPd0tXnFC",
        "outputId": "772ebf24-dcb4-4eae-f8e4-8c53bca1e001",
        "colab": {
          "base_uri": "https://localhost:8080/"
        }
      },
      "execution_count": 5,
      "outputs": [
        {
          "output_type": "stream",
          "name": "stdout",
          "text": [
            "\u001b[0KDownloaded GraphPad Prism v9.0.0.121 - WINDOWS.zip\n"
          ]
        }
      ]
    },
    {
      "cell_type": "code",
      "source": [
        "# Basecall and Demultiplex process\n",
        "\n",
        "%%shell\n",
        "\n",
        "# Specify the name of the folder (i.e., 20240411_1608_MN22990_FAT84733_f175dd69/fast5)\n",
        "DIR=\"20240411_1608_MN22990_FAT84733_f175dd69/fast5\"\n",
        "\n",
        "# Specify the barcode kit used for library preparation\n",
        "BARKIT=\"EXP-NBD114\"\n",
        "\n",
        "PREFIX=\"$(echo \"$IDIR\" | awk -F/ '{print $1}')\"\n",
        "\n",
        "pod5 convert fast5 $IDIR --output \"/content/gdrive/MyDrive/\"$PREFIX\".pod5\"\n",
        "\n",
        "# Specify the accurate basecalling model - fast (fast), high (hac) or super (sup) accuracy\n",
        "# dna_r9.4.1_e8_fast@v3.4\n",
        "# dna_r9.4.1_e8_hac@v3.3\n",
        "# dna_r9.4.1_e8_sup@v3.3\n",
        "./ont-dorado/bin/dorado basecaller \"ont-dorado/models/dna_r9.4.1_e8_sup@v3.3\" \\\n",
        "\"/content/gdrive/MyDrive/\"$PREFIX\".pod5\" -r --min-qscore 8 --emit-fastq >> \"/content/gdrive/MyDrive/\"$PREFIX\"_DORADO-BASECALL.fastq\"\n",
        "\n",
        "./ont-dorado/bin/dorado demux \"/content/gdrive/MyDrive/\"$PREFIX\"_DORADO-SUP.fastq\" --emit-fastq \\\n",
        "--output-dir \"/content/gdrive/MyDrive/\"$PREFIX\"_DORADO-DEMUX\" --kit-name $BARKIT -t $(nproc)"
      ],
      "metadata": {
        "id": "3h3DJ72AH1I9"
      },
      "execution_count": null,
      "outputs": []
    }
  ]
}